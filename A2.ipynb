{
  "nbformat": 4,
  "nbformat_minor": 0,
  "metadata": {
    "colab": {
      "provenance": []
    },
    "kernelspec": {
      "name": "python3",
      "display_name": "Python 3"
    },
    "language_info": {
      "name": "python"
    }
  },
  "cells": [
    {
      "cell_type": "markdown",
      "source": [
        "# Hero's Journey Story Generator\n"
      ],
      "metadata": {
        "id": "QnztHESXbynm"
      }
    },
    {
      "cell_type": "code",
      "source": [
        "import random\n",
        "\n",
        "# Variables to hold the chosen protagonist and antagonist to be used in the story\n",
        "chosen_protagonist = None\n",
        "chosen_antagonist = None\n",
        "\n",
        "# Define the grammar to be used in the story\n",
        "grammar = {\n",
        "    'Story': ['Intro\\n\\nBody\\n\\nConclusion'],  # Story structure\n",
        "\n",
        "    'Intro': [\n",
        "        'Once upon a time,',\n",
        "        'Long, long ago,',\n",
        "        'Many, many years ago,',\n",
        "        'Before our time,',\n",
        "        'In a time long forgotten,',\n",
        "        'In the days of old,'\n",
        "    ],  # Story intro\n",
        "\n",
        "    'Body': ['Setting\\n\\nThere lived a {Protagonist}.\\n\\nOne day,\\n\\nCall\\nResponse\\nMentor\\n\\nLeaving\\n\\nDuring the journey,\\n\\nTrials\\n\\nClimax\\n\\nReward\\n\\nReturn'], # Story body which makes up most of the story\n",
        "\n",
        "    'Setting': [\n",
        "        'in a beautiful castle,',\n",
        "        'in an enchanted forest,',\n",
        "        'in a forgotten land,',\n",
        "        'in a kingdom far, far away,',\n",
        "        'in a quaint village,'\n",
        "      ],  # Where the story takes place\n",
        "\n",
        "    'Protagonist': [\n",
        "        'young adventurer',\n",
        "        'brave knight',\n",
        "        'young farmer',\n",
        "        'blacksmith\\'s apprentice',\n",
        "        'shepard'\n",
        "      ],  # The protagonist of the story\n",
        "\n",
        "    'Antagonist': [\n",
        "        'wicked witch of the forest',\n",
        "        'ancient pirate king',\n",
        "        'fierce dragon',\n",
        "        'cruel wizard',\n",
        "        'evil king'\n",
        "      ], # The antagonist of the story\n",
        "\n",
        "    'Call': [\n",
        "        'The {Protagonist} was spoken to by a mysterious vision to go on a journey to defeat the {Antagonist}.',\n",
        "        'The {Protagonist} received an urgent message for help to defeat the {Antagonist}.',\n",
        "        'The {Protagonist} was tasked to rescue a princess from the clutches of the {Antagonist}.',\n",
        "        'The {Protagonist} found a magical artifact that beckoned them to defeat the {Antagonist}.',\n",
        "        'The {Protagonist} was chosen by a prophecy to save the kingdom from the {Antagonist}.'\n",
        "      ], # The call to adventure for the protagonist\n",
        "\n",
        "    'Response': [\n",
        "        'At first, the {Protagonist} was afraid and refused to go, but',\n",
        "        'At first, the {Protagonist} doubted their abilities and hesitated, but',\n",
        "        'At first, the {Protagonist} was unsure if they were the right person for the task, but',\n",
        "        'The {Protagonist} was eager to show their courage, and',\n",
        "        'The {Protagonist} was eager to show their skills, and',\n",
        "        'The {Protagonist} believed that it was fate, and'\n",
        "      ], # How the protagonist responded to the call to adventure\n",
        "\n",
        "    'Mentor': [\n",
        "        'a wise old wizard appeared to guide them.',\n",
        "        'a mysterious sage appeared and gave them a special skill.',\n",
        "        'a magical creature appeared to share knowledge with them.',\n",
        "        'the king gave them a powerful weapon to protect themselves.',\n",
        "        'an old friend appeared and gave them encouragement.',\n",
        "        'the princess begged them to go.'\n",
        "      ], # Someone who will encourage the protagonist\n",
        "\n",
        "    'Leaving': [\n",
        "        'With newfound courage, the {Protagonist} began its journey and crossed into the enchanted forest.',\n",
        "        'Accepting the task, the {Protagonist} entered the dark cave where danger awaited.',\n",
        "        'Guided by newfound wisdom, the {Protagonist} ventured into the unknown lands beyond the kingdom.',\n",
        "        'No longer afraid, the {Protagonist} embraced their fate and set off on their journey.'\n",
        "    ], # Leaving on their adventure\n",
        "\n",
        "    'Trials': [\n",
        "        'The {Protagonist} wrestled a mighty giant to prove their strength and earn safe passage across the enchanted bridge.',\n",
        "        'The {Protagonist} faced an ancient stone gate that would only open if they could solve its mysterious riddle.',\n",
        "        'The {Protagonist} bravely battled a fierce griffin, skillfully dodging its razor-sharp claws and striking with precision.',\n",
        "        'The {Protagonist} had to negotiate peace between the kingdom and a rival before blood was spilled.'\n",
        "    ], # Trials and Tests faced\n",
        "\n",
        "    'Climax': [\n",
        "        'At last, the {Protagonist} reached the heart of the {Antagonist}\\'s lair, where they faced off in a final, desperate battle. With everything at stake, they had to outmatch their foe’s cunning, strength, and dark magic to save the kingdom from destruction.',\n",
        "        'At last, the {Protagonist} reached the depths of the {Antagonist}\\'s magical cave, where the air was thick with smoke and the ground shook at every breath. In a battle for their life, the {Protagonist} had to outwit the {Antagonist} to survive.',\n",
        "        'At last, the {Protagonist} faced off against the {Antagonist} in a fierce battle of magic, where spells clashed in the air, crackling with power, as each sought to outwit and overpower the other in a contest of wills.',\n",
        "        'At last, the {Protagonist} encountered a monstrous creature, cursed by dark magic from the {Antagonist}, in a desperate battle to break the spell that had ensnared the monster and threatened its people.'\n",
        "    ],# The greatest challenge the protagonist faces\n",
        "\n",
        "    'Reward': [\n",
        "        'After the battle, amidst the smoldering ruins of the {Antagonist}\\'s lair, the {Protagonist} stumbled upon a hidden treasure buried deep beneath the roots of an ancient tree. The chest glowed faintly, as if it had been waiting centuries to be discovered.',\n",
        "        'After defeating the {Antagonist}, the {Protagonist} found a purified weapon, dropped by the {Antagonist} in their final moments. The gleaming blade, now freed from its former master\\'s dark influence, was ready to protect the innocent and strike down any force of evil that threatened the land.',\n",
        "        'After defeating the {Antagonist}, the {Protagonist} uncovered a powerful secret hidden for centuries, if used wisely, could bring prolonged prosperity to the kingdom.',\n",
        "        'After defeating the {Antagonist}, they found a lost noble in a hidden chamber, their eyes filled with relief as the villain who had kidnapped and imprisoned her was finally dead.',\n",
        "    ], # What was found after defeating the antagonist\n",
        "\n",
        "    'Return': [\n",
        "        'With a deep sigh of relief, the {Protagonist} returned to the kingdom, knowing that their victory had not only saved the land but also brought peace to its people, ending the era of fear and uncertainty.',\n",
        "        'With the treasure in hand, the {Protagonist} made their way back home through, their heart filled with hope as the promise of a brighter future grew nearer with every step.',\n",
        "        'As the {Protagonist} returned, a sense of happiness washed over them, knowing that their journey had saved the land and ensured a better future, one filled with hope and prosperity for all.',\n",
        "        'Returning home, the {Protagonist} hoped for a hero’s welcome, eager to be celebrated for their victory over the {Antagonist}, knowing that their deeds would be remembered for generations.'\n",
        "    ], # Road Back (the hero begins the return journey)\n",
        "\n",
        "    'Conclusion': [\n",
        "        'With the {Antagonist} defeated, the {Protagonist} returned to a life of peace, living happily ever after as the land flourished and the people rejoiced in their newfound freedom.',\n",
        "        'Months later, the {Protagonist} retired to a peaceful life, having found a loving wife and leaving behind the adventures of the past to embrace the tranquility and happiness they had fought so hard to achieve.',\n",
        "        'Upon returning, the {Protagonist} was offered the hand of the princess by the king, a token of gratitude for saving the kingdom and restoring peace to the land, marking the beginning of a new chapter in their life. Together, they lived happily ever after.',\n",
        "        'The {Protagonist} became a hero known across the kingdom, their name spoken with admiration and gratitude, as tales of their bravery and triumph over the {Antagonist} spread far and wide.',\n",
        "        'With a sense of relief and contentment, the {Protagonist} returned to their own lives, grateful to leave behind the trials of their journey and eager to embrace the peace and simplicity of their familiar world once more.'\n",
        "    ] # The conclusion to the story\n",
        "}\n",
        "\n",
        "\n",
        "def generate_story(rule):\n",
        "    \"\"\" Recursively generate a sentence using the grammar rules. \"\"\"\n",
        "    global chosen_protagonist\n",
        "    global chosen_antagonist\n",
        "\n",
        "    # If protagonist or antagonist aren't chosen, set them to random choices\n",
        "    if chosen_protagonist is None:\n",
        "        chosen_protagonist = random.choice(grammar['Protagonist'])\n",
        "\n",
        "    if chosen_antagonist is None:\n",
        "        chosen_antagonist = random.choice(grammar['Antagonist'])\n",
        "\n",
        "    # If the sentence rule contains 'Protagonist', replace it with the chosen protagonist\n",
        "    if 'Protagonist' in rule:\n",
        "        rule = rule.replace('{Protagonist}', chosen_protagonist)\n",
        "\n",
        "    # If the sentence rule contains 'Antagonist', replace it with the chosen antagonist\n",
        "    if 'Antagonist' in rule:\n",
        "        rule = rule.replace('{Antagonist}', chosen_antagonist)\n",
        "\n",
        "    if rule not in grammar:\n",
        "        return rule  # Base case: return terminal symbols\n",
        "\n",
        "    production = random.choice(grammar[rule])  # Choose a random production rule\n",
        "    story_parts = production.split(\"\\n\")  # Split into parts\n",
        "    story = [generate_story(part) for part in story_parts]  # Recursively generate each part\n",
        "    final_story = \"\\n\".join(story)  # Join parts into a full sentence\n",
        "\n",
        "    return final_story\n",
        "\n",
        "# Generate a fairy tale\n",
        "fairy_tale = generate_story('Story')"
      ],
      "metadata": {
        "id": "_ICQC_z8b050"
      },
      "execution_count": 33,
      "outputs": []
    },
    {
      "cell_type": "code",
      "source": [
        "print(fairy_tale)"
      ],
      "metadata": {
        "colab": {
          "base_uri": "https://localhost:8080/"
        },
        "id": "Wj_riDv_cGLq",
        "outputId": "85d299d0-744a-4c5a-d706-bfe2b696111a"
      },
      "execution_count": 28,
      "outputs": [
        {
          "output_type": "stream",
          "name": "stdout",
          "text": [
            "Once upon a time,\n",
            "\n",
            "in an enchanted forest,\n",
            "\n",
            "There lived a young adventurer.\n",
            "\n",
            "One day,\n",
            "\n",
            "The young adventurer found a magical artifact that beckoned them to defeat the ancient pirate king.\n",
            "The young adventurer was eager to show their courage, and\n",
            "a mysterious sage appeared and gave them a special skill.\n",
            "\n",
            "Guided by newfound wisdom, the young adventurer ventured into the unknown lands beyond the kingdom.\n",
            "\n",
            "During the journey,\n",
            "\n",
            "The young adventurer faced an ancient stone gate that would only open if they could solve its mysterious riddle.\n",
            "\n",
            "At last, the young adventurer encounterd a monstrous creature, cursed by dark magic from the ancient pirate king, in a desperate battle to break the spell that had ensnared the monster and threatened its people.\n",
            "\n",
            "After defeating the ancient pirate king, the young adventurer found a purified weapon, dropped by the ancient pirate king in their final moments. The gleaming blade, now freed from its former master's dark influence, was ready to protect the innocent and strike down any force of evil that threatened the land.\n",
            "\n",
            "With a deep sigh of relief, the young adventurer returned to the kingdom, knowing that their victory had not only saved the land but also brought peace to its people, ending the era of fear and uncertainty.\n",
            "\n",
            "With the ancient pirate king defeated, the young adventurer returned to a life of peace, living happily ever after as the land flourished and the people rejoiced in their newfound freedom.\n"
          ]
        }
      ]
    },
    {
      "cell_type": "markdown",
      "source": [
        "**Sample Outputs**"
      ],
      "metadata": {
        "id": "TtZwgh2Q2E0v"
      }
    },
    {
      "cell_type": "code",
      "source": [
        "print(fairy_tale)"
      ],
      "metadata": {
        "colab": {
          "base_uri": "https://localhost:8080/"
        },
        "id": "0IpeTkO12HKi",
        "outputId": "2a4b2f6c-ec48-48bc-b51b-1503c1aaa23a"
      },
      "execution_count": 23,
      "outputs": [
        {
          "output_type": "stream",
          "name": "stdout",
          "text": [
            "Many, many years ago,\n",
            "\n",
            "in an enchanted forest,\n",
            "\n",
            "There lived a brave knight.\n",
            "\n",
            "One day,\n",
            "\n",
            "The brave knight found a magical artifact that beckoned them to defeat the cruel wizard.\n",
            "The brave knight was eager to show their courage, and\n",
            "the princess begged them to go.\n",
            "\n",
            "With newfound courage, the brave knight began its journey and crossed into the enchanted forest.\n",
            "\n",
            "During the journey,\n",
            "\n",
            "The brave knight wrestled a mighty giant to prove their strength and earn safe passage across the enchanted bridge.\n",
            "\n",
            "At last, the brave knight faced off against the cruel wizard in a fierce battle of magic, where spells clashed in the air, crackling with power, as each sought to outwit and overpower the other in a contest of wills.\n",
            "\n",
            "After defeating the cruel wizard, the brave knight found a purified weapon, dropped by the cruel wizard in their final moments. The gleaming blade, now freed from its former master's dark influence, was ready to protect the innocent and strike down any force of evil that threatened the land.\n",
            "\n",
            "Returning home, the brave knight hoped for a hero’s welcome, eager to be celebrated for their victory over the cruel wizard, knowing that their deeds would be remembered for generations.\n",
            "\n",
            "With the cruel wizard defeated, the brave knight returned to a life of peace, living happily ever after as the land flourished and the people rejoiced in their newfound freedom.\n"
          ]
        }
      ]
    },
    {
      "cell_type": "code",
      "source": [
        "print(fairy_tale)"
      ],
      "metadata": {
        "colab": {
          "base_uri": "https://localhost:8080/"
        },
        "id": "1Hf8wjf02IVN",
        "outputId": "dc223a4c-b54a-4dca-d1fc-09fd2e46fe39"
      },
      "execution_count": 25,
      "outputs": [
        {
          "output_type": "stream",
          "name": "stdout",
          "text": [
            "Long, long ago,\n",
            "\n",
            "in a kindgom far, far away,\n",
            "\n",
            "There lived a brave knight.\n",
            "\n",
            "One day,\n",
            "\n",
            "The brave knight received an urgent message for help to defeat the cruel wizard.\n",
            "The brave knight was eager to show their courage, and\n",
            "a wise old wizard appeared to guide them.\n",
            "\n",
            "With newfound courage, the brave knight began its journey and crossed into the enchanted forest.\n",
            "\n",
            "During the journey,\n",
            "\n",
            "The brave knight bravely battled a fierce griffin, skillfully dodging its razor-sharp claws and striking with percision.\n",
            "\n",
            "At last, the brave knight reached the depths of the cruel wizard's magical cave, where the air was thick with smoke and the ground shook at every breath. In a battle for their life, the brave knight had to outwit the cruel wizard to survive.\n",
            "\n",
            "After defeating the cruel wizard, the brave knight uncovered a powerful secret hidden for centuries, if used wisely, could bring prolonged prosperity to the kingdom.\n",
            "\n",
            "With a deep sigh of relief, the brave knight returned to the kingdom, knowing that their victory had not only saved the land but also brought peace to its people, ending the era of fear and uncertainty.\n",
            "\n",
            "The brave knight became a hero known across the kingdom, their name spoken with admiration and gratitude, as tales of their bravery and triumph over the cruel wizard spread far and wide.\n"
          ]
        }
      ]
    },
    {
      "cell_type": "code",
      "source": [
        "print(fairy_tale)"
      ],
      "metadata": {
        "colab": {
          "base_uri": "https://localhost:8080/"
        },
        "id": "UKhCKj3z2Iwl",
        "outputId": "2eceac85-9e5f-4158-e7ea-352305f9ec46"
      },
      "execution_count": 30,
      "outputs": [
        {
          "output_type": "stream",
          "name": "stdout",
          "text": [
            "Once upon a time,\n",
            "\n",
            "in a quaint village,\n",
            "\n",
            "There lived a young farmer.\n",
            "\n",
            "One day,\n",
            "\n",
            "The young farmer was chosen by a prophecy to save the kingdom from the cruel wizard.\n",
            "The young farmer was eager to show their courage, and\n",
            "the princess begged them to go.\n",
            "\n",
            "With newfound courage, the young farmer began its journey and crossed into the enchanted forest.\n",
            "\n",
            "During the journey,\n",
            "\n",
            "The young farmer wrestled a mighty giant to prove their strength and earn safe passage across the enchanted bridge.\n",
            "\n",
            "At last, the young farmer encounterd a monstrous creature, cursed by dark magic from the cruel wizard, in a desperate battle to break the spell that had ensnared the monster and threatened its people.\n",
            "\n",
            "After defeating the cruel wizard, the young farmer uncovered a powerful secret hidden for centuries, if used wisely, could bring prolonged prosperity to the kingdom.\n",
            "\n",
            "Returning home, the young farmer hoped for a hero’s welcome, eager to be celebrated for their victory over the cruel wizard, knowing that their deeds would be remembered for generations.\n",
            "\n",
            "Months later, the young farmer retired to a peaceful life, having found a loving wife and leaving behind the adventures of the past to embrace the tranquility and happiness they had fought so hard to achieve.\n"
          ]
        }
      ]
    },
    {
      "cell_type": "code",
      "source": [
        "print(fairy_tale)"
      ],
      "metadata": {
        "colab": {
          "base_uri": "https://localhost:8080/"
        },
        "id": "jI3j3id22JLb",
        "outputId": "9f20c1d2-4914-490a-bd9c-4acf39460739"
      },
      "execution_count": 32,
      "outputs": [
        {
          "output_type": "stream",
          "name": "stdout",
          "text": [
            "Long, long ago,\n",
            "\n",
            "in a forgotten land,\n",
            "\n",
            "There lived a young farmer.\n",
            "\n",
            "One day,\n",
            "\n",
            "The young farmer found a magical artifact that beckoned them to defeat the evil king.\n",
            "The young farmer was eager to show their courage, and\n",
            "a wise old wizard appeared to guide them.\n",
            "\n",
            "Accepting the task, The young farmer entered the dark cave where danger awaited.\n",
            "\n",
            "During the journey,\n",
            "\n",
            "The young farmer bravely battled a fierce griffin, skillfully dodging its razor-sharp claws and striking with percision.\n",
            "\n",
            "At last, the young farmer faced off against the evil king in a fierce battle of magic, where spells clashed in the air, crackling with power, as each sought to outwit and overpower the other in a contest of wills.\n",
            "\n",
            "After defeating the evil king, the young farmer uncovered a powerful secret hidden for centuries, if used wisely, could bring prolonged prosperity to the kingdom.\n",
            "\n",
            "As the young farmer returned, a sense of happiness washed over them, knowing that their journey had saved the land and ensured a better future, one filled with hope and prosperity for all.\n",
            "\n",
            "With the evil king defeated, the young farmer returned to a life of peace, living happily ever after as the land flourished and the people rejoiced in their newfound freedom.\n"
          ]
        }
      ]
    },
    {
      "cell_type": "code",
      "source": [
        "print(fairy_tale)"
      ],
      "metadata": {
        "colab": {
          "base_uri": "https://localhost:8080/"
        },
        "id": "9eriMjog2Jbp",
        "outputId": "a6d43aae-dd9d-4ad2-cd4f-aa1249809b88"
      },
      "execution_count": 34,
      "outputs": [
        {
          "output_type": "stream",
          "name": "stdout",
          "text": [
            "In the days of old,\n",
            "\n",
            "in a beautiful castle,\n",
            "\n",
            "There lived a brave knight.\n",
            "\n",
            "One day,\n",
            "\n",
            "The brave knight was chosen by a prophecy to save the kingdom from the ancient pirate king.\n",
            "The brave knight was eager to show their courage, and\n",
            "an old friend appeared and gave them encouragement.\n",
            "\n",
            "Accepting the task, The brave knight entered the dark cave where danger awaited.\n",
            "\n",
            "During the journey,\n",
            "\n",
            "The brave knight wrestled a mighty giant to prove their strength and earn safe passage across the enchanted bridge.\n",
            "\n",
            "At last, the brave knight reached the heart of the ancient pirate king's lair, where they faced off in a final, desperate battle. With everything at stake, they had to outmatch their foe’s cunning, strength, and dark magic to save the kingdom from destruction.\n",
            "\n",
            "After defeating the ancient pirate king, the brave knight uncovered a powerful secret hidden for centuries, if used wisely, could bring prolonged prosperity to the kingdom.\n",
            "\n",
            "Returning home, the brave knight hoped for a hero’s welcome, eager to be celebrated for their victory over the ancient pirate king, knowing that their deeds would be remembered for generations.\n",
            "\n",
            "Upon returning, the brave knight was offered the hand of the princess by the king, a token of gratitude for saving the kingdom and restoring peace to the land, marking the beginning of a new chapter in their life. Together, they lived happily ever after.\n"
          ]
        }
      ]
    }
  ]
}